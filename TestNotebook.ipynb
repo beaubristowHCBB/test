{
 "metadata": {
  "name": "",
  "signature": "sha256:37af83d8f6abce4503282643caccfa02303368786aa0f7beff188db171cf6983"
 },
 "nbformat": 3,
 "nbformat_minor": 0,
 "worksheets": [
  {
   "cells": [
    {
     "cell_type": "code",
     "collapsed": false,
     "input": [
      "# This is a notebook to test iPython and Git"
     ],
     "language": "python",
     "metadata": {},
     "outputs": []
    },
    {
     "cell_type": "markdown",
     "metadata": {},
     "source": [
      "import time"
     ]
    },
    {
     "cell_type": "code",
     "collapsed": false,
     "input": [
      "from time import localtime, strftime\n",
      "strftime(\"%a, %d %b %Y %H:%M:%S +0000\", localtime())"
     ],
     "language": "python",
     "metadata": {},
     "outputs": [
      {
       "metadata": {},
       "output_type": "pyout",
       "prompt_number": 13,
       "text": [
        "'Mon, 09 Jun 2014 07:07:52 +0000'"
       ]
      }
     ],
     "prompt_number": 13
    }
   ],
   "metadata": {}
  }
 ]
}