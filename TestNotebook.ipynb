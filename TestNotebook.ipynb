{
 "metadata": {
  "name": "",
  "signature": "sha256:c5f1e6cde298972d641f089b2bee6e6a012c650e0cf4bb44a145c32500bddccd"
 },
 "nbformat": 3,
 "nbformat_minor": 0,
 "worksheets": [
  {
   "cells": [
    {
     "cell_type": "code",
     "collapsed": false,
     "input": [
      "# This is a notebook to test iPython and Git"
     ],
     "language": "python",
     "metadata": {},
     "outputs": []
    },
    {
     "cell_type": "markdown",
     "metadata": {},
     "source": [
      "import time"
     ]
    },
    {
     "cell_type": "code",
     "collapsed": false,
     "input": [
      "from time import localtime, strftime\n",
      "strftime(\"%a, %d %b %Y %H:%M:%S +0000\", localtime())"
     ],
     "language": "python",
     "metadata": {},
     "outputs": [
      {
       "metadata": {},
       "output_type": "pyout",
       "prompt_number": 15,
       "text": [
        "'Mon, 09 Jun 2014 08:01:26 +0000'"
       ]
      }
     ],
     "prompt_number": 15
    },
    {
     "cell_type": "code",
     "collapsed": false,
     "input": [
      "# This is a new comment\n",
      "print 'This is a new output'"
     ],
     "language": "python",
     "metadata": {},
     "outputs": [
      {
       "output_type": "stream",
       "stream": "stdout",
       "text": [
        "This is a new output\n"
       ]
      }
     ],
     "prompt_number": 16
    }
   ],
   "metadata": {}
  }
 ]
}