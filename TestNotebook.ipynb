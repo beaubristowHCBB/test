{
 "metadata": {
  "name": "",
  "signature": "sha256:c5b01e087b0815e825445fcade382afd478a4523c84d208e781488fead758de0"
 },
 "nbformat": 3,
 "nbformat_minor": 0,
 "worksheets": [
  {
   "cells": [
    {
     "cell_type": "code",
     "collapsed": false,
     "input": [
      "# This is a notebook to test iPython and Git"
     ],
     "language": "python",
     "metadata": {},
     "outputs": []
    },
    {
     "cell_type": "markdown",
     "metadata": {},
     "source": [
      "import time"
     ]
    },
    {
     "cell_type": "code",
     "collapsed": false,
     "input": [
      "from time import localtime, strftime\n",
      "strftime(\"%a, %d %b %Y %H:%M:%S +0000\", localtime())"
     ],
     "language": "python",
     "metadata": {},
     "outputs": [],
     "prompt_number": ""
    },
    {
     "cell_type": "code",
     "collapsed": false,
     "input": [
      "# This is a new comment\n",
      "print 'This is a new output'"
     ],
     "language": "python",
     "metadata": {},
     "outputs": [],
     "prompt_number": ""
    }
   ],
   "metadata": {}
  }
 ]
}